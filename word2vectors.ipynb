{
 "cells": [
  {
   "cell_type": "code",
   "execution_count": 1,
   "metadata": {},
   "outputs": [],
   "source": [
    "import nltk"
   ]
  },
  {
   "cell_type": "code",
   "execution_count": 2,
   "metadata": {},
   "outputs": [],
   "source": [
    "from gensim.models import Word2Vec\n",
    "from nltk.corpus import stopwords"
   ]
  },
  {
   "cell_type": "code",
   "execution_count": 3,
   "metadata": {},
   "outputs": [],
   "source": [
    "paragraph = \"\"\"I have three visions for India. In 3000 years of our history, people from all over \n",
    "               the world have come and invaded us, captured our lands, conquered our minds. \n",
    "               From Alexander onwards, the Greeks, the Turks, the Moguls, the Portuguese, the British,\n",
    "               the French, the Dutch, all of them came and looted us, took over what was ours. \n",
    "               Yet we have not done this to any other nation. We have not conquered anyone. \n",
    "               We have not grabbed their land, their culture, \n",
    "               their history and tried to enforce our way of life on them. \n",
    "               Why? Because we respect the freedom of others.That is why my \n",
    "               first vision is that of freedom. I believe that India got its first vision of \n",
    "               this in 1857, when we started the War of Independence. It is this freedom that\n",
    "               we must protect and nurture and build on. If we are not free, no one will respect us.\n",
    "               My second vision for India’s development. For fifty years we have been a developing nation.\n",
    "               It is time we see ourselves as a developed nation. We are among the top 5 nations of the world\n",
    "               in terms of GDP. We have a 10 percent growth rate in most areas. Our poverty levels are falling.\n",
    "               Our achievements are being globally recognised today. Yet we lack the self-confidence to\n",
    "               see ourselves as a developed nation, self-reliant and self-assured. Isn’t this incorrect?\n",
    "               I have a third vision. India must stand up to the world. Because I believe that unless India \n",
    "               stands up to the world, no one will respect us. Only strength respects strength. We must be \n",
    "               strong not only as a military power but also as an economic power. Both must go hand-in-hand. \n",
    "               My good fortune was to have worked with three great minds. Dr. Vikram Sarabhai of the Dept. of \n",
    "               space, Professor Satish Dhawan, who succeeded him and Dr. Brahm Prakash, father of nuclear material.\n",
    "               I was lucky to have worked with all three of them closely and consider this the great opportunity of my life. \n",
    "               I see four milestones in my career\"\"\""
   ]
  },
  {
   "cell_type": "code",
   "execution_count": 4,
   "metadata": {},
   "outputs": [],
   "source": [
    "import re"
   ]
  },
  {
   "cell_type": "code",
   "execution_count": 5,
   "metadata": {},
   "outputs": [],
   "source": [
    "text=re.sub(r'\\[[0-9]*\\]',' ',paragraph)"
   ]
  },
  {
   "cell_type": "code",
   "execution_count": 6,
   "metadata": {},
   "outputs": [
    {
     "data": {
      "text/plain": [
       "'I have three visions for India. In 3000 years of our history, people from all over \\n               the world have come and invaded us, captured our lands, conquered our minds. \\n               From Alexander onwards, the Greeks, the Turks, the Moguls, the Portuguese, the British,\\n               the French, the Dutch, all of them came and looted us, took over what was ours. \\n               Yet we have not done this to any other nation. We have not conquered anyone. \\n               We have not grabbed their land, their culture, \\n               their history and tried to enforce our way of life on them. \\n               Why? Because we respect the freedom of others.That is why my \\n               first vision is that of freedom. I believe that India got its first vision of \\n               this in 1857, when we started the War of Independence. It is this freedom that\\n               we must protect and nurture and build on. If we are not free, no one will respect us.\\n               My second vision for India’s development. For fifty years we have been a developing nation.\\n               It is time we see ourselves as a developed nation. We are among the top 5 nations of the world\\n               in terms of GDP. We have a 10 percent growth rate in most areas. Our poverty levels are falling.\\n               Our achievements are being globally recognised today. Yet we lack the self-confidence to\\n               see ourselves as a developed nation, self-reliant and self-assured. Isn’t this incorrect?\\n               I have a third vision. India must stand up to the world. Because I believe that unless India \\n               stands up to the world, no one will respect us. Only strength respects strength. We must be \\n               strong not only as a military power but also as an economic power. Both must go hand-in-hand. \\n               My good fortune was to have worked with three great minds. Dr. Vikram Sarabhai of the Dept. of \\n               space, Professor Satish Dhawan, who succeeded him and Dr. Brahm Prakash, father of nuclear material.\\n               I was lucky to have worked with all three of them closely and consider this the great opportunity of my life. \\n               I see four milestones in my career'"
      ]
     },
     "execution_count": 6,
     "metadata": {},
     "output_type": "execute_result"
    }
   ],
   "source": [
    "text"
   ]
  },
  {
   "cell_type": "code",
   "execution_count": 7,
   "metadata": {},
   "outputs": [],
   "source": [
    "text=re.sub(r'\\s+',' ',text)"
   ]
  },
  {
   "cell_type": "code",
   "execution_count": 8,
   "metadata": {},
   "outputs": [
    {
     "data": {
      "text/plain": [
       "'I have three visions for India. In 3000 years of our history, people from all over the world have come and invaded us, captured our lands, conquered our minds. From Alexander onwards, the Greeks, the Turks, the Moguls, the Portuguese, the British, the French, the Dutch, all of them came and looted us, took over what was ours. Yet we have not done this to any other nation. We have not conquered anyone. We have not grabbed their land, their culture, their history and tried to enforce our way of life on them. Why? Because we respect the freedom of others.That is why my first vision is that of freedom. I believe that India got its first vision of this in 1857, when we started the War of Independence. It is this freedom that we must protect and nurture and build on. If we are not free, no one will respect us. My second vision for India’s development. For fifty years we have been a developing nation. It is time we see ourselves as a developed nation. We are among the top 5 nations of the world in terms of GDP. We have a 10 percent growth rate in most areas. Our poverty levels are falling. Our achievements are being globally recognised today. Yet we lack the self-confidence to see ourselves as a developed nation, self-reliant and self-assured. Isn’t this incorrect? I have a third vision. India must stand up to the world. Because I believe that unless India stands up to the world, no one will respect us. Only strength respects strength. We must be strong not only as a military power but also as an economic power. Both must go hand-in-hand. My good fortune was to have worked with three great minds. Dr. Vikram Sarabhai of the Dept. of space, Professor Satish Dhawan, who succeeded him and Dr. Brahm Prakash, father of nuclear material. I was lucky to have worked with all three of them closely and consider this the great opportunity of my life. I see four milestones in my career'"
      ]
     },
     "execution_count": 8,
     "metadata": {},
     "output_type": "execute_result"
    }
   ],
   "source": [
    "text"
   ]
  },
  {
   "cell_type": "code",
   "execution_count": 9,
   "metadata": {},
   "outputs": [],
   "source": [
    "text=text.lower()"
   ]
  },
  {
   "cell_type": "code",
   "execution_count": 10,
   "metadata": {},
   "outputs": [
    {
     "data": {
      "text/plain": [
       "'i have three visions for india. in 3000 years of our history, people from all over the world have come and invaded us, captured our lands, conquered our minds. from alexander onwards, the greeks, the turks, the moguls, the portuguese, the british, the french, the dutch, all of them came and looted us, took over what was ours. yet we have not done this to any other nation. we have not conquered anyone. we have not grabbed their land, their culture, their history and tried to enforce our way of life on them. why? because we respect the freedom of others.that is why my first vision is that of freedom. i believe that india got its first vision of this in 1857, when we started the war of independence. it is this freedom that we must protect and nurture and build on. if we are not free, no one will respect us. my second vision for india’s development. for fifty years we have been a developing nation. it is time we see ourselves as a developed nation. we are among the top 5 nations of the world in terms of gdp. we have a 10 percent growth rate in most areas. our poverty levels are falling. our achievements are being globally recognised today. yet we lack the self-confidence to see ourselves as a developed nation, self-reliant and self-assured. isn’t this incorrect? i have a third vision. india must stand up to the world. because i believe that unless india stands up to the world, no one will respect us. only strength respects strength. we must be strong not only as a military power but also as an economic power. both must go hand-in-hand. my good fortune was to have worked with three great minds. dr. vikram sarabhai of the dept. of space, professor satish dhawan, who succeeded him and dr. brahm prakash, father of nuclear material. i was lucky to have worked with all three of them closely and consider this the great opportunity of my life. i see four milestones in my career'"
      ]
     },
     "execution_count": 10,
     "metadata": {},
     "output_type": "execute_result"
    }
   ],
   "source": [
    "text"
   ]
  },
  {
   "cell_type": "code",
   "execution_count": 11,
   "metadata": {},
   "outputs": [],
   "source": [
    "text=re.sub(r'\\d',' ',text)"
   ]
  },
  {
   "cell_type": "code",
   "execution_count": 12,
   "metadata": {},
   "outputs": [
    {
     "data": {
      "text/plain": [
       "'i have three visions for india. in      years of our history, people from all over the world have come and invaded us, captured our lands, conquered our minds. from alexander onwards, the greeks, the turks, the moguls, the portuguese, the british, the french, the dutch, all of them came and looted us, took over what was ours. yet we have not done this to any other nation. we have not conquered anyone. we have not grabbed their land, their culture, their history and tried to enforce our way of life on them. why? because we respect the freedom of others.that is why my first vision is that of freedom. i believe that india got its first vision of this in     , when we started the war of independence. it is this freedom that we must protect and nurture and build on. if we are not free, no one will respect us. my second vision for india’s development. for fifty years we have been a developing nation. it is time we see ourselves as a developed nation. we are among the top   nations of the world in terms of gdp. we have a    percent growth rate in most areas. our poverty levels are falling. our achievements are being globally recognised today. yet we lack the self-confidence to see ourselves as a developed nation, self-reliant and self-assured. isn’t this incorrect? i have a third vision. india must stand up to the world. because i believe that unless india stands up to the world, no one will respect us. only strength respects strength. we must be strong not only as a military power but also as an economic power. both must go hand-in-hand. my good fortune was to have worked with three great minds. dr. vikram sarabhai of the dept. of space, professor satish dhawan, who succeeded him and dr. brahm prakash, father of nuclear material. i was lucky to have worked with all three of them closely and consider this the great opportunity of my life. i see four milestones in my career'"
      ]
     },
     "execution_count": 12,
     "metadata": {},
     "output_type": "execute_result"
    }
   ],
   "source": [
    "text"
   ]
  },
  {
   "cell_type": "code",
   "execution_count": 13,
   "metadata": {},
   "outputs": [],
   "source": [
    "text=re.sub(r'\\s+',' ',text)"
   ]
  },
  {
   "cell_type": "code",
   "execution_count": 14,
   "metadata": {},
   "outputs": [
    {
     "data": {
      "text/plain": [
       "'i have three visions for india. in years of our history, people from all over the world have come and invaded us, captured our lands, conquered our minds. from alexander onwards, the greeks, the turks, the moguls, the portuguese, the british, the french, the dutch, all of them came and looted us, took over what was ours. yet we have not done this to any other nation. we have not conquered anyone. we have not grabbed their land, their culture, their history and tried to enforce our way of life on them. why? because we respect the freedom of others.that is why my first vision is that of freedom. i believe that india got its first vision of this in , when we started the war of independence. it is this freedom that we must protect and nurture and build on. if we are not free, no one will respect us. my second vision for india’s development. for fifty years we have been a developing nation. it is time we see ourselves as a developed nation. we are among the top nations of the world in terms of gdp. we have a percent growth rate in most areas. our poverty levels are falling. our achievements are being globally recognised today. yet we lack the self-confidence to see ourselves as a developed nation, self-reliant and self-assured. isn’t this incorrect? i have a third vision. india must stand up to the world. because i believe that unless india stands up to the world, no one will respect us. only strength respects strength. we must be strong not only as a military power but also as an economic power. both must go hand-in-hand. my good fortune was to have worked with three great minds. dr. vikram sarabhai of the dept. of space, professor satish dhawan, who succeeded him and dr. brahm prakash, father of nuclear material. i was lucky to have worked with all three of them closely and consider this the great opportunity of my life. i see four milestones in my career'"
      ]
     },
     "execution_count": 14,
     "metadata": {},
     "output_type": "execute_result"
    }
   ],
   "source": [
    "text"
   ]
  },
  {
   "cell_type": "code",
   "execution_count": 15,
   "metadata": {},
   "outputs": [],
   "source": [
    "sentences=nltk.sent_tokenize(text)"
   ]
  },
  {
   "cell_type": "code",
   "execution_count": 16,
   "metadata": {},
   "outputs": [
    {
     "data": {
      "text/plain": [
       "['i have three visions for india.',\n",
       " 'in years of our history, people from all over the world have come and invaded us, captured our lands, conquered our minds.',\n",
       " 'from alexander onwards, the greeks, the turks, the moguls, the portuguese, the british, the french, the dutch, all of them came and looted us, took over what was ours.',\n",
       " 'yet we have not done this to any other nation.',\n",
       " 'we have not conquered anyone.',\n",
       " 'we have not grabbed their land, their culture, their history and tried to enforce our way of life on them.',\n",
       " 'why?',\n",
       " 'because we respect the freedom of others.that is why my first vision is that of freedom.',\n",
       " 'i believe that india got its first vision of this in , when we started the war of independence.',\n",
       " 'it is this freedom that we must protect and nurture and build on.',\n",
       " 'if we are not free, no one will respect us.',\n",
       " 'my second vision for india’s development.',\n",
       " 'for fifty years we have been a developing nation.',\n",
       " 'it is time we see ourselves as a developed nation.',\n",
       " 'we are among the top nations of the world in terms of gdp.',\n",
       " 'we have a percent growth rate in most areas.',\n",
       " 'our poverty levels are falling.',\n",
       " 'our achievements are being globally recognised today.',\n",
       " 'yet we lack the self-confidence to see ourselves as a developed nation, self-reliant and self-assured.',\n",
       " 'isn’t this incorrect?',\n",
       " 'i have a third vision.',\n",
       " 'india must stand up to the world.',\n",
       " 'because i believe that unless india stands up to the world, no one will respect us.',\n",
       " 'only strength respects strength.',\n",
       " 'we must be strong not only as a military power but also as an economic power.',\n",
       " 'both must go hand-in-hand.',\n",
       " 'my good fortune was to have worked with three great minds.',\n",
       " 'dr. vikram sarabhai of the dept.',\n",
       " 'of space, professor satish dhawan, who succeeded him and dr. brahm prakash, father of nuclear material.',\n",
       " 'i was lucky to have worked with all three of them closely and consider this the great opportunity of my life.',\n",
       " 'i see four milestones in my career']"
      ]
     },
     "execution_count": 16,
     "metadata": {},
     "output_type": "execute_result"
    }
   ],
   "source": [
    "sentences"
   ]
  },
  {
   "cell_type": "code",
   "execution_count": 17,
   "metadata": {},
   "outputs": [],
   "source": [
    "sentences=[nltk.word_tokenize(sentence) for sentence in sentences]"
   ]
  },
  {
   "cell_type": "code",
   "execution_count": 18,
   "metadata": {},
   "outputs": [
    {
     "data": {
      "text/plain": [
       "[['i', 'have', 'three', 'visions', 'for', 'india', '.'],\n",
       " ['in',\n",
       "  'years',\n",
       "  'of',\n",
       "  'our',\n",
       "  'history',\n",
       "  ',',\n",
       "  'people',\n",
       "  'from',\n",
       "  'all',\n",
       "  'over',\n",
       "  'the',\n",
       "  'world',\n",
       "  'have',\n",
       "  'come',\n",
       "  'and',\n",
       "  'invaded',\n",
       "  'us',\n",
       "  ',',\n",
       "  'captured',\n",
       "  'our',\n",
       "  'lands',\n",
       "  ',',\n",
       "  'conquered',\n",
       "  'our',\n",
       "  'minds',\n",
       "  '.'],\n",
       " ['from',\n",
       "  'alexander',\n",
       "  'onwards',\n",
       "  ',',\n",
       "  'the',\n",
       "  'greeks',\n",
       "  ',',\n",
       "  'the',\n",
       "  'turks',\n",
       "  ',',\n",
       "  'the',\n",
       "  'moguls',\n",
       "  ',',\n",
       "  'the',\n",
       "  'portuguese',\n",
       "  ',',\n",
       "  'the',\n",
       "  'british',\n",
       "  ',',\n",
       "  'the',\n",
       "  'french',\n",
       "  ',',\n",
       "  'the',\n",
       "  'dutch',\n",
       "  ',',\n",
       "  'all',\n",
       "  'of',\n",
       "  'them',\n",
       "  'came',\n",
       "  'and',\n",
       "  'looted',\n",
       "  'us',\n",
       "  ',',\n",
       "  'took',\n",
       "  'over',\n",
       "  'what',\n",
       "  'was',\n",
       "  'ours',\n",
       "  '.'],\n",
       " ['yet',\n",
       "  'we',\n",
       "  'have',\n",
       "  'not',\n",
       "  'done',\n",
       "  'this',\n",
       "  'to',\n",
       "  'any',\n",
       "  'other',\n",
       "  'nation',\n",
       "  '.'],\n",
       " ['we', 'have', 'not', 'conquered', 'anyone', '.'],\n",
       " ['we',\n",
       "  'have',\n",
       "  'not',\n",
       "  'grabbed',\n",
       "  'their',\n",
       "  'land',\n",
       "  ',',\n",
       "  'their',\n",
       "  'culture',\n",
       "  ',',\n",
       "  'their',\n",
       "  'history',\n",
       "  'and',\n",
       "  'tried',\n",
       "  'to',\n",
       "  'enforce',\n",
       "  'our',\n",
       "  'way',\n",
       "  'of',\n",
       "  'life',\n",
       "  'on',\n",
       "  'them',\n",
       "  '.'],\n",
       " ['why', '?'],\n",
       " ['because',\n",
       "  'we',\n",
       "  'respect',\n",
       "  'the',\n",
       "  'freedom',\n",
       "  'of',\n",
       "  'others.that',\n",
       "  'is',\n",
       "  'why',\n",
       "  'my',\n",
       "  'first',\n",
       "  'vision',\n",
       "  'is',\n",
       "  'that',\n",
       "  'of',\n",
       "  'freedom',\n",
       "  '.'],\n",
       " ['i',\n",
       "  'believe',\n",
       "  'that',\n",
       "  'india',\n",
       "  'got',\n",
       "  'its',\n",
       "  'first',\n",
       "  'vision',\n",
       "  'of',\n",
       "  'this',\n",
       "  'in',\n",
       "  ',',\n",
       "  'when',\n",
       "  'we',\n",
       "  'started',\n",
       "  'the',\n",
       "  'war',\n",
       "  'of',\n",
       "  'independence',\n",
       "  '.'],\n",
       " ['it',\n",
       "  'is',\n",
       "  'this',\n",
       "  'freedom',\n",
       "  'that',\n",
       "  'we',\n",
       "  'must',\n",
       "  'protect',\n",
       "  'and',\n",
       "  'nurture',\n",
       "  'and',\n",
       "  'build',\n",
       "  'on',\n",
       "  '.'],\n",
       " ['if',\n",
       "  'we',\n",
       "  'are',\n",
       "  'not',\n",
       "  'free',\n",
       "  ',',\n",
       "  'no',\n",
       "  'one',\n",
       "  'will',\n",
       "  'respect',\n",
       "  'us',\n",
       "  '.'],\n",
       " ['my', 'second', 'vision', 'for', 'india', '’', 's', 'development', '.'],\n",
       " ['for',\n",
       "  'fifty',\n",
       "  'years',\n",
       "  'we',\n",
       "  'have',\n",
       "  'been',\n",
       "  'a',\n",
       "  'developing',\n",
       "  'nation',\n",
       "  '.'],\n",
       " ['it',\n",
       "  'is',\n",
       "  'time',\n",
       "  'we',\n",
       "  'see',\n",
       "  'ourselves',\n",
       "  'as',\n",
       "  'a',\n",
       "  'developed',\n",
       "  'nation',\n",
       "  '.'],\n",
       " ['we',\n",
       "  'are',\n",
       "  'among',\n",
       "  'the',\n",
       "  'top',\n",
       "  'nations',\n",
       "  'of',\n",
       "  'the',\n",
       "  'world',\n",
       "  'in',\n",
       "  'terms',\n",
       "  'of',\n",
       "  'gdp',\n",
       "  '.'],\n",
       " ['we', 'have', 'a', 'percent', 'growth', 'rate', 'in', 'most', 'areas', '.'],\n",
       " ['our', 'poverty', 'levels', 'are', 'falling', '.'],\n",
       " ['our',\n",
       "  'achievements',\n",
       "  'are',\n",
       "  'being',\n",
       "  'globally',\n",
       "  'recognised',\n",
       "  'today',\n",
       "  '.'],\n",
       " ['yet',\n",
       "  'we',\n",
       "  'lack',\n",
       "  'the',\n",
       "  'self-confidence',\n",
       "  'to',\n",
       "  'see',\n",
       "  'ourselves',\n",
       "  'as',\n",
       "  'a',\n",
       "  'developed',\n",
       "  'nation',\n",
       "  ',',\n",
       "  'self-reliant',\n",
       "  'and',\n",
       "  'self-assured',\n",
       "  '.'],\n",
       " ['isn', '’', 't', 'this', 'incorrect', '?'],\n",
       " ['i', 'have', 'a', 'third', 'vision', '.'],\n",
       " ['india', 'must', 'stand', 'up', 'to', 'the', 'world', '.'],\n",
       " ['because',\n",
       "  'i',\n",
       "  'believe',\n",
       "  'that',\n",
       "  'unless',\n",
       "  'india',\n",
       "  'stands',\n",
       "  'up',\n",
       "  'to',\n",
       "  'the',\n",
       "  'world',\n",
       "  ',',\n",
       "  'no',\n",
       "  'one',\n",
       "  'will',\n",
       "  'respect',\n",
       "  'us',\n",
       "  '.'],\n",
       " ['only', 'strength', 'respects', 'strength', '.'],\n",
       " ['we',\n",
       "  'must',\n",
       "  'be',\n",
       "  'strong',\n",
       "  'not',\n",
       "  'only',\n",
       "  'as',\n",
       "  'a',\n",
       "  'military',\n",
       "  'power',\n",
       "  'but',\n",
       "  'also',\n",
       "  'as',\n",
       "  'an',\n",
       "  'economic',\n",
       "  'power',\n",
       "  '.'],\n",
       " ['both', 'must', 'go', 'hand-in-hand', '.'],\n",
       " ['my',\n",
       "  'good',\n",
       "  'fortune',\n",
       "  'was',\n",
       "  'to',\n",
       "  'have',\n",
       "  'worked',\n",
       "  'with',\n",
       "  'three',\n",
       "  'great',\n",
       "  'minds',\n",
       "  '.'],\n",
       " ['dr.', 'vikram', 'sarabhai', 'of', 'the', 'dept', '.'],\n",
       " ['of',\n",
       "  'space',\n",
       "  ',',\n",
       "  'professor',\n",
       "  'satish',\n",
       "  'dhawan',\n",
       "  ',',\n",
       "  'who',\n",
       "  'succeeded',\n",
       "  'him',\n",
       "  'and',\n",
       "  'dr.',\n",
       "  'brahm',\n",
       "  'prakash',\n",
       "  ',',\n",
       "  'father',\n",
       "  'of',\n",
       "  'nuclear',\n",
       "  'material',\n",
       "  '.'],\n",
       " ['i',\n",
       "  'was',\n",
       "  'lucky',\n",
       "  'to',\n",
       "  'have',\n",
       "  'worked',\n",
       "  'with',\n",
       "  'all',\n",
       "  'three',\n",
       "  'of',\n",
       "  'them',\n",
       "  'closely',\n",
       "  'and',\n",
       "  'consider',\n",
       "  'this',\n",
       "  'the',\n",
       "  'great',\n",
       "  'opportunity',\n",
       "  'of',\n",
       "  'my',\n",
       "  'life',\n",
       "  '.'],\n",
       " ['i', 'see', 'four', 'milestones', 'in', 'my', 'career']]"
      ]
     },
     "execution_count": 18,
     "metadata": {},
     "output_type": "execute_result"
    }
   ],
   "source": [
    "sentences"
   ]
  },
  {
   "cell_type": "code",
   "execution_count": 19,
   "metadata": {},
   "outputs": [],
   "source": [
    "for i in range(len(sentences)):\n",
    "    sentences[i]=[word for word in sentences[i] if word not in stopwords.words('english')]"
   ]
  },
  {
   "cell_type": "code",
   "execution_count": 20,
   "metadata": {},
   "outputs": [
    {
     "data": {
      "text/plain": [
       "[['three', 'visions', 'india', '.'],\n",
       " ['years',\n",
       "  'history',\n",
       "  ',',\n",
       "  'people',\n",
       "  'world',\n",
       "  'come',\n",
       "  'invaded',\n",
       "  'us',\n",
       "  ',',\n",
       "  'captured',\n",
       "  'lands',\n",
       "  ',',\n",
       "  'conquered',\n",
       "  'minds',\n",
       "  '.'],\n",
       " ['alexander',\n",
       "  'onwards',\n",
       "  ',',\n",
       "  'greeks',\n",
       "  ',',\n",
       "  'turks',\n",
       "  ',',\n",
       "  'moguls',\n",
       "  ',',\n",
       "  'portuguese',\n",
       "  ',',\n",
       "  'british',\n",
       "  ',',\n",
       "  'french',\n",
       "  ',',\n",
       "  'dutch',\n",
       "  ',',\n",
       "  'came',\n",
       "  'looted',\n",
       "  'us',\n",
       "  ',',\n",
       "  'took',\n",
       "  '.'],\n",
       " ['yet', 'done', 'nation', '.'],\n",
       " ['conquered', 'anyone', '.'],\n",
       " ['grabbed',\n",
       "  'land',\n",
       "  ',',\n",
       "  'culture',\n",
       "  ',',\n",
       "  'history',\n",
       "  'tried',\n",
       "  'enforce',\n",
       "  'way',\n",
       "  'life',\n",
       "  '.'],\n",
       " ['?'],\n",
       " ['respect', 'freedom', 'others.that', 'first', 'vision', 'freedom', '.'],\n",
       " ['believe',\n",
       "  'india',\n",
       "  'got',\n",
       "  'first',\n",
       "  'vision',\n",
       "  ',',\n",
       "  'started',\n",
       "  'war',\n",
       "  'independence',\n",
       "  '.'],\n",
       " ['freedom', 'must', 'protect', 'nurture', 'build', '.'],\n",
       " ['free', ',', 'one', 'respect', 'us', '.'],\n",
       " ['second', 'vision', 'india', '’', 'development', '.'],\n",
       " ['fifty', 'years', 'developing', 'nation', '.'],\n",
       " ['time', 'see', 'developed', 'nation', '.'],\n",
       " ['among', 'top', 'nations', 'world', 'terms', 'gdp', '.'],\n",
       " ['percent', 'growth', 'rate', 'areas', '.'],\n",
       " ['poverty', 'levels', 'falling', '.'],\n",
       " ['achievements', 'globally', 'recognised', 'today', '.'],\n",
       " ['yet',\n",
       "  'lack',\n",
       "  'self-confidence',\n",
       "  'see',\n",
       "  'developed',\n",
       "  'nation',\n",
       "  ',',\n",
       "  'self-reliant',\n",
       "  'self-assured',\n",
       "  '.'],\n",
       " ['’', 'incorrect', '?'],\n",
       " ['third', 'vision', '.'],\n",
       " ['india', 'must', 'stand', 'world', '.'],\n",
       " ['believe',\n",
       "  'unless',\n",
       "  'india',\n",
       "  'stands',\n",
       "  'world',\n",
       "  ',',\n",
       "  'one',\n",
       "  'respect',\n",
       "  'us',\n",
       "  '.'],\n",
       " ['strength', 'respects', 'strength', '.'],\n",
       " ['must', 'strong', 'military', 'power', 'also', 'economic', 'power', '.'],\n",
       " ['must', 'go', 'hand-in-hand', '.'],\n",
       " ['good', 'fortune', 'worked', 'three', 'great', 'minds', '.'],\n",
       " ['dr.', 'vikram', 'sarabhai', 'dept', '.'],\n",
       " ['space',\n",
       "  ',',\n",
       "  'professor',\n",
       "  'satish',\n",
       "  'dhawan',\n",
       "  ',',\n",
       "  'succeeded',\n",
       "  'dr.',\n",
       "  'brahm',\n",
       "  'prakash',\n",
       "  ',',\n",
       "  'father',\n",
       "  'nuclear',\n",
       "  'material',\n",
       "  '.'],\n",
       " ['lucky',\n",
       "  'worked',\n",
       "  'three',\n",
       "  'closely',\n",
       "  'consider',\n",
       "  'great',\n",
       "  'opportunity',\n",
       "  'life',\n",
       "  '.'],\n",
       " ['see', 'four', 'milestones', 'career']]"
      ]
     },
     "execution_count": 20,
     "metadata": {},
     "output_type": "execute_result"
    }
   ],
   "source": [
    "sentences"
   ]
  },
  {
   "cell_type": "code",
   "execution_count": 21,
   "metadata": {},
   "outputs": [],
   "source": [
    "model=Word2Vec(sentences,min_count=1)"
   ]
  },
  {
   "cell_type": "code",
   "execution_count": 22,
   "metadata": {},
   "outputs": [
    {
     "data": {
      "text/plain": [
       "<gensim.models.word2vec.Word2Vec at 0x1e09b8f6310>"
      ]
     },
     "execution_count": 22,
     "metadata": {},
     "output_type": "execute_result"
    }
   ],
   "source": [
    "model"
   ]
  },
  {
   "cell_type": "code",
   "execution_count": 23,
   "metadata": {},
   "outputs": [],
   "source": [
    "words=model.wv.vocab"
   ]
  },
  {
   "cell_type": "code",
   "execution_count": 24,
   "metadata": {},
   "outputs": [
    {
     "data": {
      "text/plain": [
       "{'three': <gensim.models.keyedvectors.Vocab at 0x1e09b8f6dc0>,\n",
       " 'visions': <gensim.models.keyedvectors.Vocab at 0x1e09b8f6b20>,\n",
       " 'india': <gensim.models.keyedvectors.Vocab at 0x1e09b8f60a0>,\n",
       " '.': <gensim.models.keyedvectors.Vocab at 0x1e09b8f64c0>,\n",
       " 'years': <gensim.models.keyedvectors.Vocab at 0x1e09b8f6a60>,\n",
       " 'history': <gensim.models.keyedvectors.Vocab at 0x1e09b8f6fd0>,\n",
       " ',': <gensim.models.keyedvectors.Vocab at 0x1e09b8f6ee0>,\n",
       " 'people': <gensim.models.keyedvectors.Vocab at 0x1e09b8f62e0>,\n",
       " 'world': <gensim.models.keyedvectors.Vocab at 0x1e09b8f6850>,\n",
       " 'come': <gensim.models.keyedvectors.Vocab at 0x1e09b8f6d90>,\n",
       " 'invaded': <gensim.models.keyedvectors.Vocab at 0x1e09b8f6cd0>,\n",
       " 'us': <gensim.models.keyedvectors.Vocab at 0x1e09b8f6670>,\n",
       " 'captured': <gensim.models.keyedvectors.Vocab at 0x1e09b8e3c70>,\n",
       " 'lands': <gensim.models.keyedvectors.Vocab at 0x1e09b8e3d90>,\n",
       " 'conquered': <gensim.models.keyedvectors.Vocab at 0x1e09b8e3e50>,\n",
       " 'minds': <gensim.models.keyedvectors.Vocab at 0x1e09b8e3c10>,\n",
       " 'alexander': <gensim.models.keyedvectors.Vocab at 0x1e09b8e3430>,\n",
       " 'onwards': <gensim.models.keyedvectors.Vocab at 0x1e09ba50970>,\n",
       " 'greeks': <gensim.models.keyedvectors.Vocab at 0x1e09ba50400>,\n",
       " 'turks': <gensim.models.keyedvectors.Vocab at 0x1e09ba50070>,\n",
       " 'moguls': <gensim.models.keyedvectors.Vocab at 0x1e09ba50b50>,\n",
       " 'portuguese': <gensim.models.keyedvectors.Vocab at 0x1e09ba50250>,\n",
       " 'british': <gensim.models.keyedvectors.Vocab at 0x1e09ba50850>,\n",
       " 'french': <gensim.models.keyedvectors.Vocab at 0x1e09ba50b20>,\n",
       " 'dutch': <gensim.models.keyedvectors.Vocab at 0x1e09ba50880>,\n",
       " 'came': <gensim.models.keyedvectors.Vocab at 0x1e09ba50be0>,\n",
       " 'looted': <gensim.models.keyedvectors.Vocab at 0x1e09ba50820>,\n",
       " 'took': <gensim.models.keyedvectors.Vocab at 0x1e09ba50490>,\n",
       " 'yet': <gensim.models.keyedvectors.Vocab at 0x1e09ba508e0>,\n",
       " 'done': <gensim.models.keyedvectors.Vocab at 0x1e09ba50bb0>,\n",
       " 'nation': <gensim.models.keyedvectors.Vocab at 0x1e09ba50c40>,\n",
       " 'anyone': <gensim.models.keyedvectors.Vocab at 0x1e09ba507f0>,\n",
       " 'grabbed': <gensim.models.keyedvectors.Vocab at 0x1e09ba50b80>,\n",
       " 'land': <gensim.models.keyedvectors.Vocab at 0x1e09ba508b0>,\n",
       " 'culture': <gensim.models.keyedvectors.Vocab at 0x1e09ba50580>,\n",
       " 'tried': <gensim.models.keyedvectors.Vocab at 0x1e09ba50ca0>,\n",
       " 'enforce': <gensim.models.keyedvectors.Vocab at 0x1e09ba50d00>,\n",
       " 'way': <gensim.models.keyedvectors.Vocab at 0x1e09ba50d30>,\n",
       " 'life': <gensim.models.keyedvectors.Vocab at 0x1e09ba50dc0>,\n",
       " '?': <gensim.models.keyedvectors.Vocab at 0x1e09ba50e20>,\n",
       " 'respect': <gensim.models.keyedvectors.Vocab at 0x1e09ba50e80>,\n",
       " 'freedom': <gensim.models.keyedvectors.Vocab at 0x1e09ba50f40>,\n",
       " 'others.that': <gensim.models.keyedvectors.Vocab at 0x1e09ba50f10>,\n",
       " 'first': <gensim.models.keyedvectors.Vocab at 0x1e09ba50fa0>,\n",
       " 'vision': <gensim.models.keyedvectors.Vocab at 0x1e09ba50a60>,\n",
       " 'believe': <gensim.models.keyedvectors.Vocab at 0x1e09ba501c0>,\n",
       " 'got': <gensim.models.keyedvectors.Vocab at 0x1e09ba50370>,\n",
       " 'started': <gensim.models.keyedvectors.Vocab at 0x1e09ba53040>,\n",
       " 'war': <gensim.models.keyedvectors.Vocab at 0x1e09ba530a0>,\n",
       " 'independence': <gensim.models.keyedvectors.Vocab at 0x1e09ba53100>,\n",
       " 'must': <gensim.models.keyedvectors.Vocab at 0x1e09ba53160>,\n",
       " 'protect': <gensim.models.keyedvectors.Vocab at 0x1e09ba531c0>,\n",
       " 'nurture': <gensim.models.keyedvectors.Vocab at 0x1e09ba53220>,\n",
       " 'build': <gensim.models.keyedvectors.Vocab at 0x1e09ba53280>,\n",
       " 'free': <gensim.models.keyedvectors.Vocab at 0x1e09ba532e0>,\n",
       " 'one': <gensim.models.keyedvectors.Vocab at 0x1e09ba53340>,\n",
       " 'second': <gensim.models.keyedvectors.Vocab at 0x1e09ba533a0>,\n",
       " '’': <gensim.models.keyedvectors.Vocab at 0x1e09ba53400>,\n",
       " 'development': <gensim.models.keyedvectors.Vocab at 0x1e09ba53460>,\n",
       " 'fifty': <gensim.models.keyedvectors.Vocab at 0x1e09ba534c0>,\n",
       " 'developing': <gensim.models.keyedvectors.Vocab at 0x1e09ba53520>,\n",
       " 'time': <gensim.models.keyedvectors.Vocab at 0x1e09ba53580>,\n",
       " 'see': <gensim.models.keyedvectors.Vocab at 0x1e09ba535e0>,\n",
       " 'developed': <gensim.models.keyedvectors.Vocab at 0x1e09ba53640>,\n",
       " 'among': <gensim.models.keyedvectors.Vocab at 0x1e09ba536a0>,\n",
       " 'top': <gensim.models.keyedvectors.Vocab at 0x1e09ba53700>,\n",
       " 'nations': <gensim.models.keyedvectors.Vocab at 0x1e09ba53760>,\n",
       " 'terms': <gensim.models.keyedvectors.Vocab at 0x1e09ba537c0>,\n",
       " 'gdp': <gensim.models.keyedvectors.Vocab at 0x1e09ba53820>,\n",
       " 'percent': <gensim.models.keyedvectors.Vocab at 0x1e09ba53880>,\n",
       " 'growth': <gensim.models.keyedvectors.Vocab at 0x1e09ba538e0>,\n",
       " 'rate': <gensim.models.keyedvectors.Vocab at 0x1e09ba53940>,\n",
       " 'areas': <gensim.models.keyedvectors.Vocab at 0x1e09ba539a0>,\n",
       " 'poverty': <gensim.models.keyedvectors.Vocab at 0x1e09ba53a00>,\n",
       " 'levels': <gensim.models.keyedvectors.Vocab at 0x1e09ba53a60>,\n",
       " 'falling': <gensim.models.keyedvectors.Vocab at 0x1e09ba53ac0>,\n",
       " 'achievements': <gensim.models.keyedvectors.Vocab at 0x1e09ba53b20>,\n",
       " 'globally': <gensim.models.keyedvectors.Vocab at 0x1e09ba53b80>,\n",
       " 'recognised': <gensim.models.keyedvectors.Vocab at 0x1e09ba53be0>,\n",
       " 'today': <gensim.models.keyedvectors.Vocab at 0x1e09ba53c40>,\n",
       " 'lack': <gensim.models.keyedvectors.Vocab at 0x1e09ba53ca0>,\n",
       " 'self-confidence': <gensim.models.keyedvectors.Vocab at 0x1e09ba53d00>,\n",
       " 'self-reliant': <gensim.models.keyedvectors.Vocab at 0x1e09ba53d60>,\n",
       " 'self-assured': <gensim.models.keyedvectors.Vocab at 0x1e09ba53dc0>,\n",
       " 'incorrect': <gensim.models.keyedvectors.Vocab at 0x1e09ba53e20>,\n",
       " 'third': <gensim.models.keyedvectors.Vocab at 0x1e09ba53e80>,\n",
       " 'stand': <gensim.models.keyedvectors.Vocab at 0x1e09ba53ee0>,\n",
       " 'unless': <gensim.models.keyedvectors.Vocab at 0x1e09ba53f40>,\n",
       " 'stands': <gensim.models.keyedvectors.Vocab at 0x1e09ba53fa0>,\n",
       " 'strength': <gensim.models.keyedvectors.Vocab at 0x1e09ba54040>,\n",
       " 'respects': <gensim.models.keyedvectors.Vocab at 0x1e09ba540a0>,\n",
       " 'strong': <gensim.models.keyedvectors.Vocab at 0x1e09ba54100>,\n",
       " 'military': <gensim.models.keyedvectors.Vocab at 0x1e09ba54160>,\n",
       " 'power': <gensim.models.keyedvectors.Vocab at 0x1e09ba541c0>,\n",
       " 'also': <gensim.models.keyedvectors.Vocab at 0x1e09ba54220>,\n",
       " 'economic': <gensim.models.keyedvectors.Vocab at 0x1e09ba54280>,\n",
       " 'go': <gensim.models.keyedvectors.Vocab at 0x1e09ba542e0>,\n",
       " 'hand-in-hand': <gensim.models.keyedvectors.Vocab at 0x1e09ba54340>,\n",
       " 'good': <gensim.models.keyedvectors.Vocab at 0x1e09ba543a0>,\n",
       " 'fortune': <gensim.models.keyedvectors.Vocab at 0x1e09ba54400>,\n",
       " 'worked': <gensim.models.keyedvectors.Vocab at 0x1e09ba54460>,\n",
       " 'great': <gensim.models.keyedvectors.Vocab at 0x1e09ba544c0>,\n",
       " 'dr.': <gensim.models.keyedvectors.Vocab at 0x1e09ba54520>,\n",
       " 'vikram': <gensim.models.keyedvectors.Vocab at 0x1e09ba54580>,\n",
       " 'sarabhai': <gensim.models.keyedvectors.Vocab at 0x1e09ba545e0>,\n",
       " 'dept': <gensim.models.keyedvectors.Vocab at 0x1e09ba54640>,\n",
       " 'space': <gensim.models.keyedvectors.Vocab at 0x1e09ba546a0>,\n",
       " 'professor': <gensim.models.keyedvectors.Vocab at 0x1e09ba54700>,\n",
       " 'satish': <gensim.models.keyedvectors.Vocab at 0x1e09ba54760>,\n",
       " 'dhawan': <gensim.models.keyedvectors.Vocab at 0x1e09ba547c0>,\n",
       " 'succeeded': <gensim.models.keyedvectors.Vocab at 0x1e09ba54820>,\n",
       " 'brahm': <gensim.models.keyedvectors.Vocab at 0x1e09ba54880>,\n",
       " 'prakash': <gensim.models.keyedvectors.Vocab at 0x1e09ba548e0>,\n",
       " 'father': <gensim.models.keyedvectors.Vocab at 0x1e09ba54940>,\n",
       " 'nuclear': <gensim.models.keyedvectors.Vocab at 0x1e09ba549a0>,\n",
       " 'material': <gensim.models.keyedvectors.Vocab at 0x1e09ba54a00>,\n",
       " 'lucky': <gensim.models.keyedvectors.Vocab at 0x1e09ba54a60>,\n",
       " 'closely': <gensim.models.keyedvectors.Vocab at 0x1e09ba54ac0>,\n",
       " 'consider': <gensim.models.keyedvectors.Vocab at 0x1e09ba54b20>,\n",
       " 'opportunity': <gensim.models.keyedvectors.Vocab at 0x1e09ba54b80>,\n",
       " 'four': <gensim.models.keyedvectors.Vocab at 0x1e09ba54be0>,\n",
       " 'milestones': <gensim.models.keyedvectors.Vocab at 0x1e09ba54c40>,\n",
       " 'career': <gensim.models.keyedvectors.Vocab at 0x1e09ba54ca0>}"
      ]
     },
     "execution_count": 24,
     "metadata": {},
     "output_type": "execute_result"
    }
   ],
   "source": [
    "words"
   ]
  },
  {
   "cell_type": "code",
   "execution_count": 25,
   "metadata": {},
   "outputs": [],
   "source": [
    "vectors=model.wv['war']"
   ]
  },
  {
   "cell_type": "code",
   "execution_count": 26,
   "metadata": {},
   "outputs": [
    {
     "data": {
      "text/plain": [
       "array([ 8.0770376e-04,  4.6392330e-03, -1.6392550e-03,  1.0280279e-03,\n",
       "       -2.2629602e-03, -1.4572858e-03,  3.4205343e-03, -2.2072818e-03,\n",
       "       -4.2051664e-03, -4.8066494e-03, -2.8554697e-03, -3.5064975e-03,\n",
       "       -1.7365300e-03,  5.0113990e-04,  4.3141497e-03, -4.3786733e-04,\n",
       "        2.9061073e-03, -1.3706819e-03,  4.9919444e-03, -2.3105515e-03,\n",
       "        3.4469543e-03, -3.2427053e-03, -3.0715873e-03, -1.0707701e-03,\n",
       "       -1.3662438e-03,  8.1399619e-04, -1.1214675e-04,  2.8293643e-03,\n",
       "       -2.8296085e-03, -2.9617823e-03,  3.2129681e-03,  4.5745973e-03,\n",
       "       -1.8002148e-03,  1.7556404e-04, -5.5373489e-04, -3.0821327e-03,\n",
       "        7.9649279e-04,  3.1805048e-03, -3.4781399e-03, -3.0577546e-03,\n",
       "        2.8411062e-03,  9.4480165e-05, -2.0502256e-03, -3.6356091e-03,\n",
       "       -2.0346602e-03, -2.3091787e-03,  1.5643720e-03,  1.3165015e-03,\n",
       "       -9.4715634e-04, -4.1939849e-03,  2.5417111e-03,  2.5938949e-04,\n",
       "       -4.9278783e-03,  2.0873190e-03, -3.2405320e-03, -3.3463074e-03,\n",
       "       -1.7531485e-03,  2.3309919e-03, -3.2781872e-03, -4.2670495e-03,\n",
       "        4.4255187e-03, -4.0149200e-03, -5.4063174e-05,  2.2655798e-03,\n",
       "        2.3029188e-03,  3.3773766e-03,  5.4049602e-04, -3.3839969e-03,\n",
       "        4.6429820e-03,  2.2465214e-03, -4.7720000e-03,  3.1843306e-03,\n",
       "        4.1734017e-03,  4.7491887e-03,  1.0248902e-03, -1.3891351e-03,\n",
       "        1.6327873e-04,  4.7651920e-03,  4.9316231e-03,  4.5643239e-03,\n",
       "       -9.5842715e-04, -4.1462849e-03, -4.1695931e-03, -2.0927452e-03,\n",
       "        4.6226098e-03, -3.7420336e-03, -3.2831314e-03,  1.7188236e-03,\n",
       "        4.0920367e-03,  3.9273826e-03,  1.2657086e-03, -4.8251273e-03,\n",
       "        2.1904507e-03, -3.3432136e-03, -4.3983096e-03, -4.0351059e-03,\n",
       "       -3.4834556e-03,  4.7817742e-03,  2.6009732e-03, -4.6791462e-03],\n",
       "      dtype=float32)"
      ]
     },
     "execution_count": 26,
     "metadata": {},
     "output_type": "execute_result"
    }
   ],
   "source": [
    "vectors"
   ]
  },
  {
   "cell_type": "code",
   "execution_count": 27,
   "metadata": {},
   "outputs": [],
   "source": [
    "similar=model.wv.most_similar('freedom')"
   ]
  },
  {
   "cell_type": "code",
   "execution_count": 28,
   "metadata": {},
   "outputs": [
    {
     "data": {
      "text/plain": [
       "[('free', 0.3275350332260132),\n",
       " ('areas', 0.23635707795619965),\n",
       " ('grabbed', 0.21891804039478302),\n",
       " ('come', 0.17852526903152466),\n",
       " ('strong', 0.1765892058610916),\n",
       " ('land', 0.1691751629114151),\n",
       " ('career', 0.1668805181980133),\n",
       " ('enforce', 0.15268167853355408),\n",
       " ('nations', 0.1473725438117981),\n",
       " ('power', 0.1369527131319046)]"
      ]
     },
     "execution_count": 28,
     "metadata": {},
     "output_type": "execute_result"
    }
   ],
   "source": [
    "similar"
   ]
  },
  {
   "cell_type": "code",
   "execution_count": 29,
   "metadata": {},
   "outputs": [],
   "source": [
    "similar=model.wv.most_similar('war')"
   ]
  },
  {
   "cell_type": "code",
   "execution_count": 30,
   "metadata": {},
   "outputs": [
    {
     "data": {
      "text/plain": [
       "[('build', 0.20067453384399414),\n",
       " ('looted', 0.17529365420341492),\n",
       " ('gdp', 0.1674264818429947),\n",
       " ('time', 0.1588175892829895),\n",
       " ('french', 0.15601444244384766),\n",
       " ('globally', 0.14206892251968384),\n",
       " ('portuguese', 0.1415586769580841),\n",
       " ('greeks', 0.11486639082431793),\n",
       " ('vision', 0.11201392114162445),\n",
       " ('self-reliant', 0.10287518054246902)]"
      ]
     },
     "execution_count": 30,
     "metadata": {},
     "output_type": "execute_result"
    }
   ],
   "source": [
    "similar"
   ]
  },
  {
   "cell_type": "code",
   "execution_count": 31,
   "metadata": {},
   "outputs": [
    {
     "data": {
      "text/plain": [
       "[('turks', 0.36728373169898987),\n",
       " ('terms', 0.28172993659973145),\n",
       " ('worked', 0.22236967086791992),\n",
       " ('us', 0.17259031534194946),\n",
       " (',', 0.1720772683620453),\n",
       " ('developed', 0.16915300488471985),\n",
       " ('history', 0.15685071051120758),\n",
       " ('must', 0.15635046362876892),\n",
       " ('falling', 0.1543148010969162),\n",
       " ('achievements', 0.1514103263616562)]"
      ]
     },
     "execution_count": 31,
     "metadata": {},
     "output_type": "execute_result"
    }
   ],
   "source": [
    "model.wv.most_similar('vikram')"
   ]
  },
  {
   "cell_type": "code",
   "execution_count": 32,
   "metadata": {},
   "outputs": [
    {
     "data": {
      "text/plain": [
       "[('lack', 0.24062395095825195),\n",
       " ('us', 0.21774126589298248),\n",
       " ('way', 0.21567252278327942),\n",
       " ('stand', 0.2081107348203659),\n",
       " ('invaded', 0.1993439942598343),\n",
       " ('poverty', 0.19434994459152222),\n",
       " ('dutch', 0.1769302785396576),\n",
       " ('nuclear', 0.1626189649105072),\n",
       " ('culture', 0.15634402632713318),\n",
       " ('tried', 0.14215978980064392)]"
      ]
     },
     "execution_count": 32,
     "metadata": {},
     "output_type": "execute_result"
    }
   ],
   "source": [
    "model.wv.most_similar('good')"
   ]
  },
  {
   "cell_type": "code",
   "execution_count": null,
   "metadata": {},
   "outputs": [],
   "source": []
  }
 ],
 "metadata": {
  "kernelspec": {
   "display_name": "Python 3",
   "language": "python",
   "name": "python3"
  },
  "language_info": {
   "codemirror_mode": {
    "name": "ipython",
    "version": 3
   },
   "file_extension": ".py",
   "mimetype": "text/x-python",
   "name": "python",
   "nbconvert_exporter": "python",
   "pygments_lexer": "ipython3",
   "version": "3.8.3"
  }
 },
 "nbformat": 4,
 "nbformat_minor": 4
}
