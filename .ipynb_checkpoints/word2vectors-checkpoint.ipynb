{
 "cells": [
  {
   "cell_type": "code",
   "execution_count": 1,
   "metadata": {},
   "outputs": [],
   "source": [
    "import nltk"
   ]
  },
  {
   "cell_type": "code",
   "execution_count": 2,
   "metadata": {},
   "outputs": [],
   "source": [
    "from gensim.models import Word2Vec\n",
    "from nltk.corpus import stopwords"
   ]
  },
  {
   "cell_type": "code",
   "execution_count": 3,
   "metadata": {},
   "outputs": [],
   "source": [
    "paragraph = \"\"\"I have three visions for India. In 3000 years of our history, people from all over \n",
    "               the world have come and invaded us, captured our lands, conquered our minds. \n",
    "               From Alexander onwards, the Greeks, the Turks, the Moguls, the Portuguese, the British,\n",
    "               the French, the Dutch, all of them came and looted us, took over what was ours. \n",
    "               Yet we have not done this to any other nation. We have not conquered anyone. \n",
    "               We have not grabbed their land, their culture, \n",
    "               their history and tried to enforce our way of life on them. \n",
    "               Why? Because we respect the freedom of others.That is why my \n",
    "               first vision is that of freedom. I believe that India got its first vision of \n",
    "               this in 1857, when we started the War of Independence. It is this freedom that\n",
    "               we must protect and nurture and build on. If we are not free, no one will respect us.\n",
    "               My second vision for India’s development. For fifty years we have been a developing nation.\n",
    "               It is time we see ourselves as a developed nation. We are among the top 5 nations of the world\n",
    "               in terms of GDP. We have a 10 percent growth rate in most areas. Our poverty levels are falling.\n",
    "               Our achievements are being globally recognised today. Yet we lack the self-confidence to\n",
    "               see ourselves as a developed nation, self-reliant and self-assured. Isn’t this incorrect?\n",
    "               I have a third vision. India must stand up to the world. Because I believe that unless India \n",
    "               stands up to the world, no one will respect us. Only strength respects strength. We must be \n",
    "               strong not only as a military power but also as an economic power. Both must go hand-in-hand. \n",
    "               My good fortune was to have worked with three great minds. Dr. Vikram Sarabhai of the Dept. of \n",
    "               space, Professor Satish Dhawan, who succeeded him and Dr. Brahm Prakash, father of nuclear material.\n",
    "               I was lucky to have worked with all three of them closely and consider this the great opportunity of my life. \n",
    "               I see four milestones in my career\"\"\""
   ]
  },
  {
   "cell_type": "code",
   "execution_count": 4,
   "metadata": {},
   "outputs": [],
   "source": [
    "import re"
   ]
  },
  {
   "cell_type": "code",
   "execution_count": 5,
   "metadata": {},
   "outputs": [],
   "source": [
    "text=re.sub('[^a-zA-z]',' ',paragraph)"
   ]
  },
  {
   "cell_type": "code",
   "execution_count": 6,
   "metadata": {},
   "outputs": [
    {
     "data": {
      "text/plain": [
       "'I have three visions for India  In      years of our history  people from all over                 the world have come and invaded us  captured our lands  conquered our minds                  From Alexander onwards  the Greeks  the Turks  the Moguls  the Portuguese  the British                 the French  the Dutch  all of them came and looted us  took over what was ours                  Yet we have not done this to any other nation  We have not conquered anyone                  We have not grabbed their land  their culture                  their history and tried to enforce our way of life on them                  Why  Because we respect the freedom of others That is why my                 first vision is that of freedom  I believe that India got its first vision of                 this in       when we started the War of Independence  It is this freedom that                we must protect and nurture and build on  If we are not free  no one will respect us                 My second vision for India s development  For fifty years we have been a developing nation                 It is time we see ourselves as a developed nation  We are among the top   nations of the world                in terms of GDP  We have a    percent growth rate in most areas  Our poverty levels are falling                 Our achievements are being globally recognised today  Yet we lack the self confidence to                see ourselves as a developed nation  self reliant and self assured  Isn t this incorrect                 I have a third vision  India must stand up to the world  Because I believe that unless India                 stands up to the world  no one will respect us  Only strength respects strength  We must be                 strong not only as a military power but also as an economic power  Both must go hand in hand                  My good fortune was to have worked with three great minds  Dr  Vikram Sarabhai of the Dept  of                 space  Professor Satish Dhawan  who succeeded him and Dr  Brahm Prakash  father of nuclear material                 I was lucky to have worked with all three of them closely and consider this the great opportunity of my life                  I see four milestones in my career'"
      ]
     },
     "execution_count": 6,
     "metadata": {},
     "output_type": "execute_result"
    }
   ],
   "source": [
    "text"
   ]
  },
  {
   "cell_type": "code",
   "execution_count": 7,
   "metadata": {},
   "outputs": [],
   "source": [
    "text=text.lower()"
   ]
  },
  {
   "cell_type": "code",
   "execution_count": 8,
   "metadata": {},
   "outputs": [
    {
     "data": {
      "text/plain": [
       "'i have three visions for india  in      years of our history  people from all over                 the world have come and invaded us  captured our lands  conquered our minds                  from alexander onwards  the greeks  the turks  the moguls  the portuguese  the british                 the french  the dutch  all of them came and looted us  took over what was ours                  yet we have not done this to any other nation  we have not conquered anyone                  we have not grabbed their land  their culture                  their history and tried to enforce our way of life on them                  why  because we respect the freedom of others that is why my                 first vision is that of freedom  i believe that india got its first vision of                 this in       when we started the war of independence  it is this freedom that                we must protect and nurture and build on  if we are not free  no one will respect us                 my second vision for india s development  for fifty years we have been a developing nation                 it is time we see ourselves as a developed nation  we are among the top   nations of the world                in terms of gdp  we have a    percent growth rate in most areas  our poverty levels are falling                 our achievements are being globally recognised today  yet we lack the self confidence to                see ourselves as a developed nation  self reliant and self assured  isn t this incorrect                 i have a third vision  india must stand up to the world  because i believe that unless india                 stands up to the world  no one will respect us  only strength respects strength  we must be                 strong not only as a military power but also as an economic power  both must go hand in hand                  my good fortune was to have worked with three great minds  dr  vikram sarabhai of the dept  of                 space  professor satish dhawan  who succeeded him and dr  brahm prakash  father of nuclear material                 i was lucky to have worked with all three of them closely and consider this the great opportunity of my life                  i see four milestones in my career'"
      ]
     },
     "execution_count": 8,
     "metadata": {},
     "output_type": "execute_result"
    }
   ],
   "source": [
    "text"
   ]
  },
  {
   "cell_type": "code",
   "execution_count": 9,
   "metadata": {},
   "outputs": [],
   "source": [
    "text=re.sub(r'\\s',' ',text)"
   ]
  },
  {
   "cell_type": "code",
   "execution_count": 10,
   "metadata": {},
   "outputs": [
    {
     "data": {
      "text/plain": [
       "'i have three visions for india  in      years of our history  people from all over                 the world have come and invaded us  captured our lands  conquered our minds                  from alexander onwards  the greeks  the turks  the moguls  the portuguese  the british                 the french  the dutch  all of them came and looted us  took over what was ours                  yet we have not done this to any other nation  we have not conquered anyone                  we have not grabbed their land  their culture                  their history and tried to enforce our way of life on them                  why  because we respect the freedom of others that is why my                 first vision is that of freedom  i believe that india got its first vision of                 this in       when we started the war of independence  it is this freedom that                we must protect and nurture and build on  if we are not free  no one will respect us                 my second vision for india s development  for fifty years we have been a developing nation                 it is time we see ourselves as a developed nation  we are among the top   nations of the world                in terms of gdp  we have a    percent growth rate in most areas  our poverty levels are falling                 our achievements are being globally recognised today  yet we lack the self confidence to                see ourselves as a developed nation  self reliant and self assured  isn t this incorrect                 i have a third vision  india must stand up to the world  because i believe that unless india                 stands up to the world  no one will respect us  only strength respects strength  we must be                 strong not only as a military power but also as an economic power  both must go hand in hand                  my good fortune was to have worked with three great minds  dr  vikram sarabhai of the dept  of                 space  professor satish dhawan  who succeeded him and dr  brahm prakash  father of nuclear material                 i was lucky to have worked with all three of them closely and consider this the great opportunity of my life                  i see four milestones in my career'"
      ]
     },
     "execution_count": 10,
     "metadata": {},
     "output_type": "execute_result"
    }
   ],
   "source": [
    "text"
   ]
  },
  {
   "cell_type": "code",
   "execution_count": 11,
   "metadata": {},
   "outputs": [],
   "source": [
    "text=re.sub(r'\\d',' ',text)"
   ]
  },
  {
   "cell_type": "code",
   "execution_count": 12,
   "metadata": {},
   "outputs": [
    {
     "data": {
      "text/plain": [
       "'i have three visions for india  in      years of our history  people from all over                 the world have come and invaded us  captured our lands  conquered our minds                  from alexander onwards  the greeks  the turks  the moguls  the portuguese  the british                 the french  the dutch  all of them came and looted us  took over what was ours                  yet we have not done this to any other nation  we have not conquered anyone                  we have not grabbed their land  their culture                  their history and tried to enforce our way of life on them                  why  because we respect the freedom of others that is why my                 first vision is that of freedom  i believe that india got its first vision of                 this in       when we started the war of independence  it is this freedom that                we must protect and nurture and build on  if we are not free  no one will respect us                 my second vision for india s development  for fifty years we have been a developing nation                 it is time we see ourselves as a developed nation  we are among the top   nations of the world                in terms of gdp  we have a    percent growth rate in most areas  our poverty levels are falling                 our achievements are being globally recognised today  yet we lack the self confidence to                see ourselves as a developed nation  self reliant and self assured  isn t this incorrect                 i have a third vision  india must stand up to the world  because i believe that unless india                 stands up to the world  no one will respect us  only strength respects strength  we must be                 strong not only as a military power but also as an economic power  both must go hand in hand                  my good fortune was to have worked with three great minds  dr  vikram sarabhai of the dept  of                 space  professor satish dhawan  who succeeded him and dr  brahm prakash  father of nuclear material                 i was lucky to have worked with all three of them closely and consider this the great opportunity of my life                  i see four milestones in my career'"
      ]
     },
     "execution_count": 12,
     "metadata": {},
     "output_type": "execute_result"
    }
   ],
   "source": [
    "text"
   ]
  },
  {
   "cell_type": "code",
   "execution_count": 13,
   "metadata": {},
   "outputs": [],
   "source": [
    "text=re.sub(r'\\s+',' ',text)"
   ]
  },
  {
   "cell_type": "code",
   "execution_count": 14,
   "metadata": {},
   "outputs": [
    {
     "data": {
      "text/plain": [
       "'i have three visions for india in years of our history people from all over the world have come and invaded us captured our lands conquered our minds from alexander onwards the greeks the turks the moguls the portuguese the british the french the dutch all of them came and looted us took over what was ours yet we have not done this to any other nation we have not conquered anyone we have not grabbed their land their culture their history and tried to enforce our way of life on them why because we respect the freedom of others that is why my first vision is that of freedom i believe that india got its first vision of this in when we started the war of independence it is this freedom that we must protect and nurture and build on if we are not free no one will respect us my second vision for india s development for fifty years we have been a developing nation it is time we see ourselves as a developed nation we are among the top nations of the world in terms of gdp we have a percent growth rate in most areas our poverty levels are falling our achievements are being globally recognised today yet we lack the self confidence to see ourselves as a developed nation self reliant and self assured isn t this incorrect i have a third vision india must stand up to the world because i believe that unless india stands up to the world no one will respect us only strength respects strength we must be strong not only as a military power but also as an economic power both must go hand in hand my good fortune was to have worked with three great minds dr vikram sarabhai of the dept of space professor satish dhawan who succeeded him and dr brahm prakash father of nuclear material i was lucky to have worked with all three of them closely and consider this the great opportunity of my life i see four milestones in my career'"
      ]
     },
     "execution_count": 14,
     "metadata": {},
     "output_type": "execute_result"
    }
   ],
   "source": [
    "text"
   ]
  },
  {
   "cell_type": "code",
   "execution_count": 15,
   "metadata": {},
   "outputs": [],
   "source": [
    "sentences=nltk.sent_tokenize(text)"
   ]
  },
  {
   "cell_type": "code",
   "execution_count": 16,
   "metadata": {},
   "outputs": [
    {
     "data": {
      "text/plain": [
       "['i have three visions for india in years of our history people from all over the world have come and invaded us captured our lands conquered our minds from alexander onwards the greeks the turks the moguls the portuguese the british the french the dutch all of them came and looted us took over what was ours yet we have not done this to any other nation we have not conquered anyone we have not grabbed their land their culture their history and tried to enforce our way of life on them why because we respect the freedom of others that is why my first vision is that of freedom i believe that india got its first vision of this in when we started the war of independence it is this freedom that we must protect and nurture and build on if we are not free no one will respect us my second vision for india s development for fifty years we have been a developing nation it is time we see ourselves as a developed nation we are among the top nations of the world in terms of gdp we have a percent growth rate in most areas our poverty levels are falling our achievements are being globally recognised today yet we lack the self confidence to see ourselves as a developed nation self reliant and self assured isn t this incorrect i have a third vision india must stand up to the world because i believe that unless india stands up to the world no one will respect us only strength respects strength we must be strong not only as a military power but also as an economic power both must go hand in hand my good fortune was to have worked with three great minds dr vikram sarabhai of the dept of space professor satish dhawan who succeeded him and dr brahm prakash father of nuclear material i was lucky to have worked with all three of them closely and consider this the great opportunity of my life i see four milestones in my career']"
      ]
     },
     "execution_count": 16,
     "metadata": {},
     "output_type": "execute_result"
    }
   ],
   "source": [
    "sentences"
   ]
  },
  {
   "cell_type": "code",
   "execution_count": 17,
   "metadata": {},
   "outputs": [],
   "source": [
    "sentences=[nltk.word_tokenize(sentence) for sentence in sentences]"
   ]
  },
  {
   "cell_type": "code",
   "execution_count": 18,
   "metadata": {},
   "outputs": [
    {
     "data": {
      "text/plain": [
       "[['i',\n",
       "  'have',\n",
       "  'three',\n",
       "  'visions',\n",
       "  'for',\n",
       "  'india',\n",
       "  'in',\n",
       "  'years',\n",
       "  'of',\n",
       "  'our',\n",
       "  'history',\n",
       "  'people',\n",
       "  'from',\n",
       "  'all',\n",
       "  'over',\n",
       "  'the',\n",
       "  'world',\n",
       "  'have',\n",
       "  'come',\n",
       "  'and',\n",
       "  'invaded',\n",
       "  'us',\n",
       "  'captured',\n",
       "  'our',\n",
       "  'lands',\n",
       "  'conquered',\n",
       "  'our',\n",
       "  'minds',\n",
       "  'from',\n",
       "  'alexander',\n",
       "  'onwards',\n",
       "  'the',\n",
       "  'greeks',\n",
       "  'the',\n",
       "  'turks',\n",
       "  'the',\n",
       "  'moguls',\n",
       "  'the',\n",
       "  'portuguese',\n",
       "  'the',\n",
       "  'british',\n",
       "  'the',\n",
       "  'french',\n",
       "  'the',\n",
       "  'dutch',\n",
       "  'all',\n",
       "  'of',\n",
       "  'them',\n",
       "  'came',\n",
       "  'and',\n",
       "  'looted',\n",
       "  'us',\n",
       "  'took',\n",
       "  'over',\n",
       "  'what',\n",
       "  'was',\n",
       "  'ours',\n",
       "  'yet',\n",
       "  'we',\n",
       "  'have',\n",
       "  'not',\n",
       "  'done',\n",
       "  'this',\n",
       "  'to',\n",
       "  'any',\n",
       "  'other',\n",
       "  'nation',\n",
       "  'we',\n",
       "  'have',\n",
       "  'not',\n",
       "  'conquered',\n",
       "  'anyone',\n",
       "  'we',\n",
       "  'have',\n",
       "  'not',\n",
       "  'grabbed',\n",
       "  'their',\n",
       "  'land',\n",
       "  'their',\n",
       "  'culture',\n",
       "  'their',\n",
       "  'history',\n",
       "  'and',\n",
       "  'tried',\n",
       "  'to',\n",
       "  'enforce',\n",
       "  'our',\n",
       "  'way',\n",
       "  'of',\n",
       "  'life',\n",
       "  'on',\n",
       "  'them',\n",
       "  'why',\n",
       "  'because',\n",
       "  'we',\n",
       "  'respect',\n",
       "  'the',\n",
       "  'freedom',\n",
       "  'of',\n",
       "  'others',\n",
       "  'that',\n",
       "  'is',\n",
       "  'why',\n",
       "  'my',\n",
       "  'first',\n",
       "  'vision',\n",
       "  'is',\n",
       "  'that',\n",
       "  'of',\n",
       "  'freedom',\n",
       "  'i',\n",
       "  'believe',\n",
       "  'that',\n",
       "  'india',\n",
       "  'got',\n",
       "  'its',\n",
       "  'first',\n",
       "  'vision',\n",
       "  'of',\n",
       "  'this',\n",
       "  'in',\n",
       "  'when',\n",
       "  'we',\n",
       "  'started',\n",
       "  'the',\n",
       "  'war',\n",
       "  'of',\n",
       "  'independence',\n",
       "  'it',\n",
       "  'is',\n",
       "  'this',\n",
       "  'freedom',\n",
       "  'that',\n",
       "  'we',\n",
       "  'must',\n",
       "  'protect',\n",
       "  'and',\n",
       "  'nurture',\n",
       "  'and',\n",
       "  'build',\n",
       "  'on',\n",
       "  'if',\n",
       "  'we',\n",
       "  'are',\n",
       "  'not',\n",
       "  'free',\n",
       "  'no',\n",
       "  'one',\n",
       "  'will',\n",
       "  'respect',\n",
       "  'us',\n",
       "  'my',\n",
       "  'second',\n",
       "  'vision',\n",
       "  'for',\n",
       "  'india',\n",
       "  's',\n",
       "  'development',\n",
       "  'for',\n",
       "  'fifty',\n",
       "  'years',\n",
       "  'we',\n",
       "  'have',\n",
       "  'been',\n",
       "  'a',\n",
       "  'developing',\n",
       "  'nation',\n",
       "  'it',\n",
       "  'is',\n",
       "  'time',\n",
       "  'we',\n",
       "  'see',\n",
       "  'ourselves',\n",
       "  'as',\n",
       "  'a',\n",
       "  'developed',\n",
       "  'nation',\n",
       "  'we',\n",
       "  'are',\n",
       "  'among',\n",
       "  'the',\n",
       "  'top',\n",
       "  'nations',\n",
       "  'of',\n",
       "  'the',\n",
       "  'world',\n",
       "  'in',\n",
       "  'terms',\n",
       "  'of',\n",
       "  'gdp',\n",
       "  'we',\n",
       "  'have',\n",
       "  'a',\n",
       "  'percent',\n",
       "  'growth',\n",
       "  'rate',\n",
       "  'in',\n",
       "  'most',\n",
       "  'areas',\n",
       "  'our',\n",
       "  'poverty',\n",
       "  'levels',\n",
       "  'are',\n",
       "  'falling',\n",
       "  'our',\n",
       "  'achievements',\n",
       "  'are',\n",
       "  'being',\n",
       "  'globally',\n",
       "  'recognised',\n",
       "  'today',\n",
       "  'yet',\n",
       "  'we',\n",
       "  'lack',\n",
       "  'the',\n",
       "  'self',\n",
       "  'confidence',\n",
       "  'to',\n",
       "  'see',\n",
       "  'ourselves',\n",
       "  'as',\n",
       "  'a',\n",
       "  'developed',\n",
       "  'nation',\n",
       "  'self',\n",
       "  'reliant',\n",
       "  'and',\n",
       "  'self',\n",
       "  'assured',\n",
       "  'isn',\n",
       "  't',\n",
       "  'this',\n",
       "  'incorrect',\n",
       "  'i',\n",
       "  'have',\n",
       "  'a',\n",
       "  'third',\n",
       "  'vision',\n",
       "  'india',\n",
       "  'must',\n",
       "  'stand',\n",
       "  'up',\n",
       "  'to',\n",
       "  'the',\n",
       "  'world',\n",
       "  'because',\n",
       "  'i',\n",
       "  'believe',\n",
       "  'that',\n",
       "  'unless',\n",
       "  'india',\n",
       "  'stands',\n",
       "  'up',\n",
       "  'to',\n",
       "  'the',\n",
       "  'world',\n",
       "  'no',\n",
       "  'one',\n",
       "  'will',\n",
       "  'respect',\n",
       "  'us',\n",
       "  'only',\n",
       "  'strength',\n",
       "  'respects',\n",
       "  'strength',\n",
       "  'we',\n",
       "  'must',\n",
       "  'be',\n",
       "  'strong',\n",
       "  'not',\n",
       "  'only',\n",
       "  'as',\n",
       "  'a',\n",
       "  'military',\n",
       "  'power',\n",
       "  'but',\n",
       "  'also',\n",
       "  'as',\n",
       "  'an',\n",
       "  'economic',\n",
       "  'power',\n",
       "  'both',\n",
       "  'must',\n",
       "  'go',\n",
       "  'hand',\n",
       "  'in',\n",
       "  'hand',\n",
       "  'my',\n",
       "  'good',\n",
       "  'fortune',\n",
       "  'was',\n",
       "  'to',\n",
       "  'have',\n",
       "  'worked',\n",
       "  'with',\n",
       "  'three',\n",
       "  'great',\n",
       "  'minds',\n",
       "  'dr',\n",
       "  'vikram',\n",
       "  'sarabhai',\n",
       "  'of',\n",
       "  'the',\n",
       "  'dept',\n",
       "  'of',\n",
       "  'space',\n",
       "  'professor',\n",
       "  'satish',\n",
       "  'dhawan',\n",
       "  'who',\n",
       "  'succeeded',\n",
       "  'him',\n",
       "  'and',\n",
       "  'dr',\n",
       "  'brahm',\n",
       "  'prakash',\n",
       "  'father',\n",
       "  'of',\n",
       "  'nuclear',\n",
       "  'material',\n",
       "  'i',\n",
       "  'was',\n",
       "  'lucky',\n",
       "  'to',\n",
       "  'have',\n",
       "  'worked',\n",
       "  'with',\n",
       "  'all',\n",
       "  'three',\n",
       "  'of',\n",
       "  'them',\n",
       "  'closely',\n",
       "  'and',\n",
       "  'consider',\n",
       "  'this',\n",
       "  'the',\n",
       "  'great',\n",
       "  'opportunity',\n",
       "  'of',\n",
       "  'my',\n",
       "  'life',\n",
       "  'i',\n",
       "  'see',\n",
       "  'four',\n",
       "  'milestones',\n",
       "  'in',\n",
       "  'my',\n",
       "  'career']]"
      ]
     },
     "execution_count": 18,
     "metadata": {},
     "output_type": "execute_result"
    }
   ],
   "source": [
    "sentences"
   ]
  },
  {
   "cell_type": "code",
   "execution_count": 19,
   "metadata": {},
   "outputs": [],
   "source": [
    "for i in range(len(sentences)):\n",
    "    sentences[i]=[word for word in sentences[i] if word not in stopwords.words('english')]"
   ]
  },
  {
   "cell_type": "code",
   "execution_count": 20,
   "metadata": {},
   "outputs": [
    {
     "data": {
      "text/plain": [
       "[['three',\n",
       "  'visions',\n",
       "  'india',\n",
       "  'years',\n",
       "  'history',\n",
       "  'people',\n",
       "  'world',\n",
       "  'come',\n",
       "  'invaded',\n",
       "  'us',\n",
       "  'captured',\n",
       "  'lands',\n",
       "  'conquered',\n",
       "  'minds',\n",
       "  'alexander',\n",
       "  'onwards',\n",
       "  'greeks',\n",
       "  'turks',\n",
       "  'moguls',\n",
       "  'portuguese',\n",
       "  'british',\n",
       "  'french',\n",
       "  'dutch',\n",
       "  'came',\n",
       "  'looted',\n",
       "  'us',\n",
       "  'took',\n",
       "  'yet',\n",
       "  'done',\n",
       "  'nation',\n",
       "  'conquered',\n",
       "  'anyone',\n",
       "  'grabbed',\n",
       "  'land',\n",
       "  'culture',\n",
       "  'history',\n",
       "  'tried',\n",
       "  'enforce',\n",
       "  'way',\n",
       "  'life',\n",
       "  'respect',\n",
       "  'freedom',\n",
       "  'others',\n",
       "  'first',\n",
       "  'vision',\n",
       "  'freedom',\n",
       "  'believe',\n",
       "  'india',\n",
       "  'got',\n",
       "  'first',\n",
       "  'vision',\n",
       "  'started',\n",
       "  'war',\n",
       "  'independence',\n",
       "  'freedom',\n",
       "  'must',\n",
       "  'protect',\n",
       "  'nurture',\n",
       "  'build',\n",
       "  'free',\n",
       "  'one',\n",
       "  'respect',\n",
       "  'us',\n",
       "  'second',\n",
       "  'vision',\n",
       "  'india',\n",
       "  'development',\n",
       "  'fifty',\n",
       "  'years',\n",
       "  'developing',\n",
       "  'nation',\n",
       "  'time',\n",
       "  'see',\n",
       "  'developed',\n",
       "  'nation',\n",
       "  'among',\n",
       "  'top',\n",
       "  'nations',\n",
       "  'world',\n",
       "  'terms',\n",
       "  'gdp',\n",
       "  'percent',\n",
       "  'growth',\n",
       "  'rate',\n",
       "  'areas',\n",
       "  'poverty',\n",
       "  'levels',\n",
       "  'falling',\n",
       "  'achievements',\n",
       "  'globally',\n",
       "  'recognised',\n",
       "  'today',\n",
       "  'yet',\n",
       "  'lack',\n",
       "  'self',\n",
       "  'confidence',\n",
       "  'see',\n",
       "  'developed',\n",
       "  'nation',\n",
       "  'self',\n",
       "  'reliant',\n",
       "  'self',\n",
       "  'assured',\n",
       "  'incorrect',\n",
       "  'third',\n",
       "  'vision',\n",
       "  'india',\n",
       "  'must',\n",
       "  'stand',\n",
       "  'world',\n",
       "  'believe',\n",
       "  'unless',\n",
       "  'india',\n",
       "  'stands',\n",
       "  'world',\n",
       "  'one',\n",
       "  'respect',\n",
       "  'us',\n",
       "  'strength',\n",
       "  'respects',\n",
       "  'strength',\n",
       "  'must',\n",
       "  'strong',\n",
       "  'military',\n",
       "  'power',\n",
       "  'also',\n",
       "  'economic',\n",
       "  'power',\n",
       "  'must',\n",
       "  'go',\n",
       "  'hand',\n",
       "  'hand',\n",
       "  'good',\n",
       "  'fortune',\n",
       "  'worked',\n",
       "  'three',\n",
       "  'great',\n",
       "  'minds',\n",
       "  'dr',\n",
       "  'vikram',\n",
       "  'sarabhai',\n",
       "  'dept',\n",
       "  'space',\n",
       "  'professor',\n",
       "  'satish',\n",
       "  'dhawan',\n",
       "  'succeeded',\n",
       "  'dr',\n",
       "  'brahm',\n",
       "  'prakash',\n",
       "  'father',\n",
       "  'nuclear',\n",
       "  'material',\n",
       "  'lucky',\n",
       "  'worked',\n",
       "  'three',\n",
       "  'closely',\n",
       "  'consider',\n",
       "  'great',\n",
       "  'opportunity',\n",
       "  'life',\n",
       "  'see',\n",
       "  'four',\n",
       "  'milestones',\n",
       "  'career']]"
      ]
     },
     "execution_count": 20,
     "metadata": {},
     "output_type": "execute_result"
    }
   ],
   "source": [
    "sentences"
   ]
  },
  {
   "cell_type": "code",
   "execution_count": 21,
   "metadata": {},
   "outputs": [],
   "source": [
    "model=Word2Vec(sentences,min_count=1)"
   ]
  },
  {
   "cell_type": "code",
   "execution_count": 22,
   "metadata": {},
   "outputs": [],
   "source": [
    "words=model.wv.vocab"
   ]
  },
  {
   "cell_type": "code",
   "execution_count": 23,
   "metadata": {},
   "outputs": [
    {
     "data": {
      "text/plain": [
       "{'three': <gensim.models.keyedvectors.Vocab at 0x1a318045610>,\n",
       " 'visions': <gensim.models.keyedvectors.Vocab at 0x1a313787d60>,\n",
       " 'india': <gensim.models.keyedvectors.Vocab at 0x1a313787b20>,\n",
       " 'years': <gensim.models.keyedvectors.Vocab at 0x1a318032250>,\n",
       " 'history': <gensim.models.keyedvectors.Vocab at 0x1a318032d90>,\n",
       " 'people': <gensim.models.keyedvectors.Vocab at 0x1a318032f10>,\n",
       " 'world': <gensim.models.keyedvectors.Vocab at 0x1a318032c40>,\n",
       " 'come': <gensim.models.keyedvectors.Vocab at 0x1a318032e80>,\n",
       " 'invaded': <gensim.models.keyedvectors.Vocab at 0x1a318032190>,\n",
       " 'us': <gensim.models.keyedvectors.Vocab at 0x1a31819d730>,\n",
       " 'captured': <gensim.models.keyedvectors.Vocab at 0x1a31819d2e0>,\n",
       " 'lands': <gensim.models.keyedvectors.Vocab at 0x1a31819d6d0>,\n",
       " 'conquered': <gensim.models.keyedvectors.Vocab at 0x1a31819d340>,\n",
       " 'minds': <gensim.models.keyedvectors.Vocab at 0x1a317e11130>,\n",
       " 'alexander': <gensim.models.keyedvectors.Vocab at 0x1a317f93a90>,\n",
       " 'onwards': <gensim.models.keyedvectors.Vocab at 0x1a3133317c0>,\n",
       " 'greeks': <gensim.models.keyedvectors.Vocab at 0x1a318045580>,\n",
       " 'turks': <gensim.models.keyedvectors.Vocab at 0x1a3180459d0>,\n",
       " 'moguls': <gensim.models.keyedvectors.Vocab at 0x1a318045b50>,\n",
       " 'portuguese': <gensim.models.keyedvectors.Vocab at 0x1a318032d00>,\n",
       " 'british': <gensim.models.keyedvectors.Vocab at 0x1a318032160>,\n",
       " 'french': <gensim.models.keyedvectors.Vocab at 0x1a318032ee0>,\n",
       " 'dutch': <gensim.models.keyedvectors.Vocab at 0x1a313431670>,\n",
       " 'came': <gensim.models.keyedvectors.Vocab at 0x1a31819d4f0>,\n",
       " 'looted': <gensim.models.keyedvectors.Vocab at 0x1a31819d3a0>,\n",
       " 'took': <gensim.models.keyedvectors.Vocab at 0x1a31819d850>,\n",
       " 'yet': <gensim.models.keyedvectors.Vocab at 0x1a31819d160>,\n",
       " 'done': <gensim.models.keyedvectors.Vocab at 0x1a31819dbe0>,\n",
       " 'nation': <gensim.models.keyedvectors.Vocab at 0x1a31819d3d0>,\n",
       " 'anyone': <gensim.models.keyedvectors.Vocab at 0x1a31819d370>,\n",
       " 'grabbed': <gensim.models.keyedvectors.Vocab at 0x1a31819d430>,\n",
       " 'land': <gensim.models.keyedvectors.Vocab at 0x1a31819d4c0>,\n",
       " 'culture': <gensim.models.keyedvectors.Vocab at 0x1a31819dc10>,\n",
       " 'tried': <gensim.models.keyedvectors.Vocab at 0x1a31819db20>,\n",
       " 'enforce': <gensim.models.keyedvectors.Vocab at 0x1a31819d8b0>,\n",
       " 'way': <gensim.models.keyedvectors.Vocab at 0x1a31819d070>,\n",
       " 'life': <gensim.models.keyedvectors.Vocab at 0x1a31819d1c0>,\n",
       " 'respect': <gensim.models.keyedvectors.Vocab at 0x1a31819da00>,\n",
       " 'freedom': <gensim.models.keyedvectors.Vocab at 0x1a31819da30>,\n",
       " 'others': <gensim.models.keyedvectors.Vocab at 0x1a31819d820>,\n",
       " 'first': <gensim.models.keyedvectors.Vocab at 0x1a31819dd30>,\n",
       " 'vision': <gensim.models.keyedvectors.Vocab at 0x1a31819dd60>,\n",
       " 'believe': <gensim.models.keyedvectors.Vocab at 0x1a31819ddf0>,\n",
       " 'got': <gensim.models.keyedvectors.Vocab at 0x1a31819de50>,\n",
       " 'started': <gensim.models.keyedvectors.Vocab at 0x1a31819deb0>,\n",
       " 'war': <gensim.models.keyedvectors.Vocab at 0x1a31819dee0>,\n",
       " 'independence': <gensim.models.keyedvectors.Vocab at 0x1a31819df70>,\n",
       " 'must': <gensim.models.keyedvectors.Vocab at 0x1a31819dfa0>,\n",
       " 'protect': <gensim.models.keyedvectors.Vocab at 0x1a31819d250>,\n",
       " 'nurture': <gensim.models.keyedvectors.Vocab at 0x1a31819d760>,\n",
       " 'build': <gensim.models.keyedvectors.Vocab at 0x1a31819d9a0>,\n",
       " 'free': <gensim.models.keyedvectors.Vocab at 0x1a3181b4070>,\n",
       " 'one': <gensim.models.keyedvectors.Vocab at 0x1a3181b40d0>,\n",
       " 'second': <gensim.models.keyedvectors.Vocab at 0x1a3181b4130>,\n",
       " 'development': <gensim.models.keyedvectors.Vocab at 0x1a3181b4190>,\n",
       " 'fifty': <gensim.models.keyedvectors.Vocab at 0x1a3181b41f0>,\n",
       " 'developing': <gensim.models.keyedvectors.Vocab at 0x1a3181b4250>,\n",
       " 'time': <gensim.models.keyedvectors.Vocab at 0x1a3181b42b0>,\n",
       " 'see': <gensim.models.keyedvectors.Vocab at 0x1a3181b4310>,\n",
       " 'developed': <gensim.models.keyedvectors.Vocab at 0x1a3181b4370>,\n",
       " 'among': <gensim.models.keyedvectors.Vocab at 0x1a3181b43d0>,\n",
       " 'top': <gensim.models.keyedvectors.Vocab at 0x1a3181b4430>,\n",
       " 'nations': <gensim.models.keyedvectors.Vocab at 0x1a3181b4490>,\n",
       " 'terms': <gensim.models.keyedvectors.Vocab at 0x1a3181b44f0>,\n",
       " 'gdp': <gensim.models.keyedvectors.Vocab at 0x1a3181b4550>,\n",
       " 'percent': <gensim.models.keyedvectors.Vocab at 0x1a3181b45b0>,\n",
       " 'growth': <gensim.models.keyedvectors.Vocab at 0x1a3181b4610>,\n",
       " 'rate': <gensim.models.keyedvectors.Vocab at 0x1a3181b4670>,\n",
       " 'areas': <gensim.models.keyedvectors.Vocab at 0x1a3181b46d0>,\n",
       " 'poverty': <gensim.models.keyedvectors.Vocab at 0x1a3181b4730>,\n",
       " 'levels': <gensim.models.keyedvectors.Vocab at 0x1a3181b4790>,\n",
       " 'falling': <gensim.models.keyedvectors.Vocab at 0x1a3181b47f0>,\n",
       " 'achievements': <gensim.models.keyedvectors.Vocab at 0x1a3181b4850>,\n",
       " 'globally': <gensim.models.keyedvectors.Vocab at 0x1a3181b48b0>,\n",
       " 'recognised': <gensim.models.keyedvectors.Vocab at 0x1a3181b4910>,\n",
       " 'today': <gensim.models.keyedvectors.Vocab at 0x1a3181b4970>,\n",
       " 'lack': <gensim.models.keyedvectors.Vocab at 0x1a3181b49d0>,\n",
       " 'self': <gensim.models.keyedvectors.Vocab at 0x1a3181b4a30>,\n",
       " 'confidence': <gensim.models.keyedvectors.Vocab at 0x1a3181b4a90>,\n",
       " 'reliant': <gensim.models.keyedvectors.Vocab at 0x1a3181b4af0>,\n",
       " 'assured': <gensim.models.keyedvectors.Vocab at 0x1a3181b4b50>,\n",
       " 'incorrect': <gensim.models.keyedvectors.Vocab at 0x1a3181b4bb0>,\n",
       " 'third': <gensim.models.keyedvectors.Vocab at 0x1a3181b4c10>,\n",
       " 'stand': <gensim.models.keyedvectors.Vocab at 0x1a3181b4c70>,\n",
       " 'unless': <gensim.models.keyedvectors.Vocab at 0x1a3181b4cd0>,\n",
       " 'stands': <gensim.models.keyedvectors.Vocab at 0x1a3181b4d30>,\n",
       " 'strength': <gensim.models.keyedvectors.Vocab at 0x1a3181b4d90>,\n",
       " 'respects': <gensim.models.keyedvectors.Vocab at 0x1a3181b4df0>,\n",
       " 'strong': <gensim.models.keyedvectors.Vocab at 0x1a3181b4e50>,\n",
       " 'military': <gensim.models.keyedvectors.Vocab at 0x1a3181b4eb0>,\n",
       " 'power': <gensim.models.keyedvectors.Vocab at 0x1a3181b4f10>,\n",
       " 'also': <gensim.models.keyedvectors.Vocab at 0x1a3181b4f70>,\n",
       " 'economic': <gensim.models.keyedvectors.Vocab at 0x1a3181b4fd0>,\n",
       " 'go': <gensim.models.keyedvectors.Vocab at 0x1a3181b3070>,\n",
       " 'hand': <gensim.models.keyedvectors.Vocab at 0x1a3181b30d0>,\n",
       " 'good': <gensim.models.keyedvectors.Vocab at 0x1a3181b3130>,\n",
       " 'fortune': <gensim.models.keyedvectors.Vocab at 0x1a3181b3190>,\n",
       " 'worked': <gensim.models.keyedvectors.Vocab at 0x1a3181b31f0>,\n",
       " 'great': <gensim.models.keyedvectors.Vocab at 0x1a3181b3250>,\n",
       " 'dr': <gensim.models.keyedvectors.Vocab at 0x1a3181b32b0>,\n",
       " 'vikram': <gensim.models.keyedvectors.Vocab at 0x1a3181b3310>,\n",
       " 'sarabhai': <gensim.models.keyedvectors.Vocab at 0x1a3181b3370>,\n",
       " 'dept': <gensim.models.keyedvectors.Vocab at 0x1a3181b33d0>,\n",
       " 'space': <gensim.models.keyedvectors.Vocab at 0x1a3181b3430>,\n",
       " 'professor': <gensim.models.keyedvectors.Vocab at 0x1a3181b3490>,\n",
       " 'satish': <gensim.models.keyedvectors.Vocab at 0x1a3181b34f0>,\n",
       " 'dhawan': <gensim.models.keyedvectors.Vocab at 0x1a3181b3550>,\n",
       " 'succeeded': <gensim.models.keyedvectors.Vocab at 0x1a3181b35b0>,\n",
       " 'brahm': <gensim.models.keyedvectors.Vocab at 0x1a3181b3610>,\n",
       " 'prakash': <gensim.models.keyedvectors.Vocab at 0x1a3181b3670>,\n",
       " 'father': <gensim.models.keyedvectors.Vocab at 0x1a3181b36d0>,\n",
       " 'nuclear': <gensim.models.keyedvectors.Vocab at 0x1a3181b3730>,\n",
       " 'material': <gensim.models.keyedvectors.Vocab at 0x1a3181b3790>,\n",
       " 'lucky': <gensim.models.keyedvectors.Vocab at 0x1a3181b37f0>,\n",
       " 'closely': <gensim.models.keyedvectors.Vocab at 0x1a3181b3850>,\n",
       " 'consider': <gensim.models.keyedvectors.Vocab at 0x1a3181b38b0>,\n",
       " 'opportunity': <gensim.models.keyedvectors.Vocab at 0x1a3181b3910>,\n",
       " 'four': <gensim.models.keyedvectors.Vocab at 0x1a3181b3970>,\n",
       " 'milestones': <gensim.models.keyedvectors.Vocab at 0x1a3181b39d0>,\n",
       " 'career': <gensim.models.keyedvectors.Vocab at 0x1a3181b3a30>}"
      ]
     },
     "execution_count": 23,
     "metadata": {},
     "output_type": "execute_result"
    }
   ],
   "source": [
    "words"
   ]
  },
  {
   "cell_type": "code",
   "execution_count": 24,
   "metadata": {},
   "outputs": [],
   "source": [
    "vectors=model.wv['war']"
   ]
  },
  {
   "cell_type": "code",
   "execution_count": 25,
   "metadata": {},
   "outputs": [
    {
     "data": {
      "text/plain": [
       "array([-3.6277245e-03,  1.1335155e-03, -2.2213173e-03,  8.5175701e-04,\n",
       "       -7.1503065e-04, -8.1330852e-04,  3.0456439e-03, -2.3031707e-03,\n",
       "       -2.8773927e-04,  2.6506803e-03,  3.5660311e-03,  8.8464608e-04,\n",
       "       -2.1708030e-03,  1.5647041e-03, -2.4639063e-03,  3.9708805e-03,\n",
       "        3.6722540e-03, -4.4689532e-03,  3.8181157e-03, -4.0175528e-03,\n",
       "        1.8802198e-03, -2.4034935e-03,  3.6406267e-04, -2.8308227e-03,\n",
       "        2.9875850e-03, -3.0442979e-03, -1.4381049e-03, -3.6352712e-03,\n",
       "       -2.6922435e-03,  2.3467706e-03,  9.7233926e-05, -3.4962427e-03,\n",
       "        4.0572300e-03, -2.6893176e-03,  2.6361842e-03, -3.5902853e-03,\n",
       "        6.0491817e-04,  1.0536397e-03,  1.0200335e-03, -2.1135153e-03,\n",
       "       -9.3537339e-05, -2.5865515e-03,  3.5285610e-03, -4.4250302e-03,\n",
       "        4.0530963e-03,  1.0702992e-03,  3.7930061e-03,  7.8649947e-04,\n",
       "        2.4343878e-03,  1.7176294e-03,  4.3078358e-04, -3.3646771e-03,\n",
       "        1.8270906e-03,  3.4874685e-03, -7.0474099e-04,  4.5637512e-03,\n",
       "       -2.3835596e-04,  2.7164426e-03,  2.4085233e-03, -2.8766461e-03,\n",
       "       -4.3626316e-03,  3.8940974e-03,  3.2991564e-03,  2.9012449e-03,\n",
       "        1.6239021e-03, -1.1537853e-03, -4.9795383e-03, -2.7313060e-04,\n",
       "       -1.6412998e-03,  2.5608714e-03,  1.0711284e-03,  8.4517966e-04,\n",
       "       -9.3585107e-04,  4.8793373e-03, -3.2864017e-03,  4.6226531e-03,\n",
       "       -2.8914441e-03,  3.0592850e-03, -1.0435228e-04, -4.8822947e-03,\n",
       "       -4.6370486e-03,  5.5144343e-04, -3.6300002e-03,  4.4949767e-03,\n",
       "       -4.7540460e-03,  8.3092600e-04,  4.0102811e-03, -3.5953051e-03,\n",
       "       -2.8168403e-03,  2.2079097e-03,  4.0573678e-03, -2.5164585e-03,\n",
       "        2.0345657e-03, -3.1252524e-03,  2.6273862e-03,  2.5577734e-03,\n",
       "        3.2084787e-03, -4.3959790e-04, -1.7159808e-04, -1.5764508e-03],\n",
       "      dtype=float32)"
      ]
     },
     "execution_count": 25,
     "metadata": {},
     "output_type": "execute_result"
    }
   ],
   "source": [
    "vectors"
   ]
  },
  {
   "cell_type": "code",
   "execution_count": 26,
   "metadata": {},
   "outputs": [],
   "source": [
    "similar=model.wv.most_similar('freedom')"
   ]
  },
  {
   "cell_type": "code",
   "execution_count": 27,
   "metadata": {},
   "outputs": [
    {
     "data": {
      "text/plain": [
       "[('development', 0.18524718284606934),\n",
       " ('believe', 0.17745959758758545),\n",
       " ('among', 0.1677018105983734),\n",
       " ('history', 0.15517070889472961),\n",
       " ('india', 0.13958419859409332),\n",
       " ('french', 0.13847272098064423),\n",
       " ('captured', 0.12930504977703094),\n",
       " ('gdp', 0.1240532249212265),\n",
       " ('looted', 0.12055401504039764),\n",
       " ('culture', 0.117866650223732)]"
      ]
     },
     "execution_count": 27,
     "metadata": {},
     "output_type": "execute_result"
    }
   ],
   "source": [
    "similar"
   ]
  },
  {
   "cell_type": "code",
   "execution_count": 28,
   "metadata": {},
   "outputs": [],
   "source": [
    "similar=model.wv.most_similar('war')"
   ]
  },
  {
   "cell_type": "code",
   "execution_count": 29,
   "metadata": {},
   "outputs": [
    {
     "data": {
      "text/plain": [
       "[('strength', 0.2344488948583603),\n",
       " ('prakash', 0.2267773598432541),\n",
       " ('others', 0.21019133925437927),\n",
       " ('achievements', 0.2044096440076828),\n",
       " ('nurture', 0.18528325855731964),\n",
       " ('alexander', 0.17062751948833466),\n",
       " ('portuguese', 0.15839499235153198),\n",
       " ('confidence', 0.1490444839000702),\n",
       " ('french', 0.1406988799571991),\n",
       " ('believe', 0.1338433027267456)]"
      ]
     },
     "execution_count": 29,
     "metadata": {},
     "output_type": "execute_result"
    }
   ],
   "source": [
    "similar"
   ]
  },
  {
   "cell_type": "code",
   "execution_count": 30,
   "metadata": {},
   "outputs": [
    {
     "data": {
      "text/plain": [
       "[('percent', 0.21596398949623108),\n",
       " ('space', 0.20264744758605957),\n",
       " ('top', 0.18657389283180237),\n",
       " ('one', 0.17997053265571594),\n",
       " ('dhawan', 0.17228055000305176),\n",
       " ('greeks', 0.17209717631340027),\n",
       " ('power', 0.16688767075538635),\n",
       " ('stands', 0.1642960011959076),\n",
       " ('nations', 0.1606082022190094),\n",
       " ('onwards', 0.15532946586608887)]"
      ]
     },
     "execution_count": 30,
     "metadata": {},
     "output_type": "execute_result"
    }
   ],
   "source": [
    "model.wv.most_similar('vikram')"
   ]
  },
  {
   "cell_type": "code",
   "execution_count": 31,
   "metadata": {},
   "outputs": [
    {
     "data": {
      "text/plain": [
       "[('dr', 0.26149481534957886),\n",
       " ('professor', 0.22155535221099854),\n",
       " ('time', 0.19403058290481567),\n",
       " ('stands', 0.1912946254014969),\n",
       " ('turks', 0.18145348131656647),\n",
       " ('falling', 0.17267897725105286),\n",
       " ('nation', 0.15977826714515686),\n",
       " ('economic', 0.15814907848834991),\n",
       " ('history', 0.15568968653678894),\n",
       " ('strength', 0.14982402324676514)]"
      ]
     },
     "execution_count": 31,
     "metadata": {},
     "output_type": "execute_result"
    }
   ],
   "source": [
    "model.wv.most_similar('good')"
   ]
  },
  {
   "cell_type": "code",
   "execution_count": null,
   "metadata": {},
   "outputs": [],
   "source": []
  }
 ],
 "metadata": {
  "kernelspec": {
   "display_name": "Python 3",
   "language": "python",
   "name": "python3"
  },
  "language_info": {
   "codemirror_mode": {
    "name": "ipython",
    "version": 3
   },
   "file_extension": ".py",
   "mimetype": "text/x-python",
   "name": "python",
   "nbconvert_exporter": "python",
   "pygments_lexer": "ipython3",
   "version": "3.8.3"
  }
 },
 "nbformat": 4,
 "nbformat_minor": 4
}
